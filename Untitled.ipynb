{
 "cells": [
  {
   "cell_type": "code",
   "execution_count": 2,
   "id": "a4a46d35-e195-44bd-a869-e028516ea113",
   "metadata": {},
   "outputs": [
    {
     "data": {
      "text/plain": [
       "'\\nQ1- what is the Internet? Explin in your own words.\\n'"
      ]
     },
     "execution_count": 2,
     "metadata": {},
     "output_type": "execute_result"
    }
   ],
   "source": [
    "\"\"\"\n",
    "Q1- what is the Internet? Explin in your own words.\n",
    "\"\"\""
   ]
  },
  {
   "cell_type": "code",
   "execution_count": 3,
   "id": "6d856336-bde3-48bc-a84f-021b07abdafe",
   "metadata": {},
   "outputs": [
    {
     "data": {
      "text/plain": [
       "'\\nans - Internet is a global communication system that links together thousands of individual networks. It allows exchange of information between two or more computers on a network. \\n'"
      ]
     },
     "execution_count": 3,
     "metadata": {},
     "output_type": "execute_result"
    }
   ],
   "source": [
    "\"\"\"\n",
    "ans - Internet is a global communication system that links together thousands of individual networks. It allows exchange of information between two or more computers on a network. \n",
    "\"\"\""
   ]
  },
  {
   "cell_type": "code",
   "execution_count": 4,
   "id": "2ffc8ce7-297c-4edd-bd80-72e674cea647",
   "metadata": {},
   "outputs": [
    {
     "data": {
      "text/plain": [
       "'\\nQ2 - what is  web browser? Explain in your own words.\\n\\n'"
      ]
     },
     "execution_count": 4,
     "metadata": {},
     "output_type": "execute_result"
    }
   ],
   "source": [
    "\"\"\"\n",
    "Q2 - what is  web browser? Explain in your own words.\n",
    "\n",
    "\"\"\""
   ]
  },
  {
   "cell_type": "code",
   "execution_count": 5,
   "id": "406e2f35-6dec-4a9c-b4a1-55a64180b1a9",
   "metadata": {},
   "outputs": [
    {
     "data": {
      "text/plain": [
       "'\\nans - A web browser is a type of software that allows you to find and view websites on the Internet. \\n'"
      ]
     },
     "execution_count": 5,
     "metadata": {},
     "output_type": "execute_result"
    }
   ],
   "source": [
    "\"\"\"\n",
    "ans - A web browser is a type of software that allows you to find and view websites on the Internet. \n",
    "\"\"\""
   ]
  },
  {
   "cell_type": "code",
   "execution_count": 6,
   "id": "7326aa0f-f19e-46e9-9380-036375b1828f",
   "metadata": {},
   "outputs": [
    {
     "data": {
      "text/plain": [
       "'\\nQ3 - what is  browser engine? Explain in your own words.\\n'"
      ]
     },
     "execution_count": 6,
     "metadata": {},
     "output_type": "execute_result"
    }
   ],
   "source": [
    "\"\"\"\n",
    "Q3 - what is  browser engine? Explain in your own words.\n",
    "\"\"\""
   ]
  },
  {
   "cell_type": "code",
   "execution_count": null,
   "id": "1e5abb23-2608-4c94-b0d2-705777660d3c",
   "metadata": {},
   "outputs": [],
   "source": [
    "\"\"\"\n",
    "ans - A browser engine is a core software component of every major web browser.\n",
    "\"\"\""
   ]
  }
 ],
 "metadata": {
  "kernelspec": {
   "display_name": "Python 3 (ipykernel)",
   "language": "python",
   "name": "python3"
  },
  "language_info": {
   "codemirror_mode": {
    "name": "ipython",
    "version": 3
   },
   "file_extension": ".py",
   "mimetype": "text/x-python",
   "name": "python",
   "nbconvert_exporter": "python",
   "pygments_lexer": "ipython3",
   "version": "3.10.8"
  }
 },
 "nbformat": 4,
 "nbformat_minor": 5
}
